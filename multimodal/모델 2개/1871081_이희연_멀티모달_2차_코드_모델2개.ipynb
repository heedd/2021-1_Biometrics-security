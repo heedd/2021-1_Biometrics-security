{
 "cells": [
  {
   "cell_type": "markdown",
   "metadata": {
    "id": "i7qOGWDALJy8"
   },
   "source": [
    "# 모듈 Import"
   ]
  },
  {
   "cell_type": "code",
   "execution_count": 20,
   "metadata": {
    "id": "OVQiM5GMLJy-",
    "scrolled": true
   },
   "outputs": [],
   "source": [
    "import cv2 as cv\n",
    "import sys\n",
    "import os\n",
    "from matplotlib import pyplot as plt\n",
    "\n",
    "import numpy as np\n",
    "from tensorflow.keras import models, layers, optimizers, utils, Model, regularizers\n",
    "from keras.utils import np_utils #to_categorical\n",
    "\n",
    "from sklearn.model_selection import KFold\n",
    "from sklearn.metrics import accuracy_score, precision_score,f1_score,recall_score\n",
    "\n",
    "from keras.preprocessing.image import ImageDataGenerator\n",
    "from tensorflow.keras.applications import *"
   ]
  },
  {
   "cell_type": "code",
   "execution_count": 21,
   "metadata": {},
   "outputs": [],
   "source": [
    "os.environ[\"CUDA_VISIBLE_DEVICES\"]=\"0\""
   ]
  },
  {
   "cell_type": "markdown",
   "metadata": {
    "id": "_7d4hyAVLJzC"
   },
   "source": [
    "# 얼굴 Dataset"
   ]
  },
  {
   "cell_type": "code",
   "execution_count": 22,
   "metadata": {
    "id": "Y0To1jM9LJzE"
   },
   "outputs": [],
   "source": [
    "path='C:/Users/clari/Desktop/multimodal2/model2/face'\n",
    "\n",
    "face_images = []\n",
    "face_labels = []\n",
    "def crop_images(path, images):\n",
    "    for img in sorted(os.listdir(path)):\n",
    "        img_array = cv.imread(os.path.join(path, img))/255\n",
    "        img_array = cv.resize(img_array, dsize=(0,0), fx=2, fy=2, interpolation=cv.INTER_LINEAR)    \n",
    "        face_images.append(img_array)\n",
    "        face_label = np_utils.to_categorical(int(img[:3]), 64)\n",
    "        face_labels.append(face_label)\n",
    "\n",
    "crop_images(path, face_images)"
   ]
  },
  {
   "cell_type": "code",
   "execution_count": 23,
   "metadata": {
    "id": "S8-6smXILJzG"
   },
   "outputs": [],
   "source": [
    "face_images = np.array(face_images)\n",
    "face_labels = np.array(face_labels)"
   ]
  },
  {
   "cell_type": "code",
   "execution_count": 24,
   "metadata": {
    "colab": {
     "base_uri": "https://localhost:8080/"
    },
    "id": "HECYV-GqfKWm",
    "outputId": "2bbac959-bebb-40d2-e3f1-514b0b50b06a"
   },
   "outputs": [
    {
     "name": "stdout",
     "output_type": "stream",
     "text": [
      "(256, 112, 92, 3)\n"
     ]
    },
    {
     "data": {
      "text/plain": [
       "<matplotlib.image.AxesImage at 0x11766efe3d0>"
      ]
     },
     "execution_count": 24,
     "metadata": {},
     "output_type": "execute_result"
    },
    {
     "data": {
      "image/png": "[encoded data removed]",
      "text/plain": [
       "<Figure size 432x288 with 1 Axes>"
      ]
     },
     "metadata": {
      "needs_background": "light"
     },
     "output_type": "display_data"
    }
   ],
   "source": [
    "print(face_images.shape)\n",
    "plt.imshow(face_images[17])"
   ]
  },
  {
   "cell_type": "code",
   "execution_count": 200,
   "metadata": {
    "id": "Ab35zAvC2hHB"
   },
   "outputs": [],
   "source": [
    "from keras.preprocessing.image import ImageDataGenerator\n",
    "\n",
    "trainDataGen = ImageDataGenerator(\n",
    "                                 width_shift_range=0.05,\n",
    "                                 height_shift_range=0.05,\n",
    "                                 brightness_range=[0.7, 1.3],\n",
    "                                 horizontal_flip=True,\n",
    "                                 )"
   ]
  },
  {
   "cell_type": "code",
   "execution_count": 25,
   "metadata": {
    "id": "Km6pTMRt3Uux"
   },
   "outputs": [],
   "source": [
    "path2='C:/Users/clari/Desktop/multimodal2/model2/aug/face_aug'   #112, 92, 3"
   ]
  },
  {
   "cell_type": "code",
   "execution_count": 38,
   "metadata": {
    "id": "CiKsXY432hDg"
   },
   "outputs": [],
   "source": [
    "i = 0\n",
    "j = 1\n",
    "num=4 #레이블 당 개수\n",
    "im=[]\n",
    "\n",
    "for img in face_images :\n",
    "    im.append(img)\n",
    "    im=np.array(im)\n",
    "    for batch in trainDataGen.flow(im, batch_size=1, save_to_dir=path2, save_prefix=format(int(i/num),'03'), save_format='png'):\n",
    "        j += 1\n",
    "        if j > 7:\n",
    "            break\n",
    "    j = 1\n",
    "    i+=1\n",
    "    im=[]"
   ]
  },
  {
   "cell_type": "code",
   "execution_count": 26,
   "metadata": {
    "id": "2v77iaeh2hAe"
   },
   "outputs": [
    {
     "ename": "KeyboardInterrupt",
     "evalue": "",
     "output_type": "error",
     "traceback": [
      "\u001b[1;31m---------------------------------------------------------------------------\u001b[0m",
      "\u001b[1;31mKeyboardInterrupt\u001b[0m                         Traceback (most recent call last)",
      "\u001b[1;32m<ipython-input-26-f9636c5089e6>\u001b[0m in \u001b[0;36m<module>\u001b[1;34m\u001b[0m\n\u001b[0;32m      8\u001b[0m     \u001b[1;32mreturn\u001b[0m \u001b[0mimages\u001b[0m\u001b[1;33m,\u001b[0m \u001b[0mlabels\u001b[0m\u001b[1;33m\u001b[0m\u001b[1;33m\u001b[0m\u001b[0m\n\u001b[0;32m      9\u001b[0m \u001b[1;33m\u001b[0m\u001b[0m\n\u001b[1;32m---> 10\u001b[1;33m \u001b[0mface_images\u001b[0m\u001b[1;33m,\u001b[0m \u001b[0mface_labels\u001b[0m \u001b[1;33m=\u001b[0m \u001b[0mappend_images\u001b[0m\u001b[1;33m(\u001b[0m\u001b[0mpath2\u001b[0m\u001b[1;33m,\u001b[0m \u001b[0mface_images\u001b[0m\u001b[1;33m,\u001b[0m \u001b[0mface_labels\u001b[0m\u001b[1;33m)\u001b[0m\u001b[1;33m\u001b[0m\u001b[1;33m\u001b[0m\u001b[0m\n\u001b[0m",
      "\u001b[1;32m<ipython-input-26-f9636c5089e6>\u001b[0m in \u001b[0;36mappend_images\u001b[1;34m(path, images, labels)\u001b[0m\n\u001b[0;32m      3\u001b[0m     \u001b[1;32mfor\u001b[0m \u001b[0mimg\u001b[0m \u001b[1;32min\u001b[0m \u001b[0mos\u001b[0m\u001b[1;33m.\u001b[0m\u001b[0mlistdir\u001b[0m\u001b[1;33m(\u001b[0m\u001b[0mpath\u001b[0m\u001b[1;33m)\u001b[0m\u001b[1;33m:\u001b[0m\u001b[1;33m\u001b[0m\u001b[1;33m\u001b[0m\u001b[0m\n\u001b[0;32m      4\u001b[0m         \u001b[0mimg_array\u001b[0m \u001b[1;33m=\u001b[0m \u001b[0mcv\u001b[0m\u001b[1;33m.\u001b[0m\u001b[0mimread\u001b[0m\u001b[1;33m(\u001b[0m\u001b[0mos\u001b[0m\u001b[1;33m.\u001b[0m\u001b[0mpath\u001b[0m\u001b[1;33m.\u001b[0m\u001b[0mjoin\u001b[0m\u001b[1;33m(\u001b[0m\u001b[0mpath\u001b[0m\u001b[1;33m,\u001b[0m \u001b[0mimg\u001b[0m\u001b[1;33m)\u001b[0m\u001b[1;33m)\u001b[0m\u001b[1;33m\u001b[0m\u001b[1;33m\u001b[0m\u001b[0m\n\u001b[1;32m----> 5\u001b[1;33m         \u001b[0mimages\u001b[0m \u001b[1;33m=\u001b[0m \u001b[0mnp\u001b[0m\u001b[1;33m.\u001b[0m\u001b[0mappend\u001b[0m\u001b[1;33m(\u001b[0m\u001b[0mimages\u001b[0m\u001b[1;33m,\u001b[0m \u001b[1;33m[\u001b[0m\u001b[0mimg_array\u001b[0m\u001b[1;33m]\u001b[0m\u001b[1;33m,\u001b[0m \u001b[0maxis\u001b[0m \u001b[1;33m=\u001b[0m \u001b[1;36m0\u001b[0m\u001b[1;33m)\u001b[0m\u001b[1;33m\u001b[0m\u001b[1;33m\u001b[0m\u001b[0m\n\u001b[0m\u001b[0;32m      6\u001b[0m         \u001b[0mlabel\u001b[0m \u001b[1;33m=\u001b[0m \u001b[0mnp_utils\u001b[0m\u001b[1;33m.\u001b[0m\u001b[0mto_categorical\u001b[0m\u001b[1;33m(\u001b[0m\u001b[0mint\u001b[0m\u001b[1;33m(\u001b[0m\u001b[0mimg\u001b[0m\u001b[1;33m[\u001b[0m\u001b[1;33m:\u001b[0m\u001b[1;36m3\u001b[0m\u001b[1;33m]\u001b[0m\u001b[1;33m)\u001b[0m\u001b[1;33m,\u001b[0m \u001b[1;36m64\u001b[0m\u001b[1;33m)\u001b[0m\u001b[1;33m\u001b[0m\u001b[1;33m\u001b[0m\u001b[0m\n\u001b[0;32m      7\u001b[0m         \u001b[0mlabels\u001b[0m \u001b[1;33m=\u001b[0m \u001b[0mnp\u001b[0m\u001b[1;33m.\u001b[0m\u001b[0mappend\u001b[0m\u001b[1;33m(\u001b[0m\u001b[0mlabels\u001b[0m\u001b[1;33m,\u001b[0m \u001b[1;33m[\u001b[0m\u001b[0mlabel\u001b[0m\u001b[1;33m]\u001b[0m\u001b[1;33m,\u001b[0m \u001b[0maxis\u001b[0m\u001b[1;33m=\u001b[0m\u001b[1;36m0\u001b[0m\u001b[1;33m)\u001b[0m\u001b[1;33m\u001b[0m\u001b[1;33m\u001b[0m\u001b[0m\n",
      "\u001b[1;32m<__array_function__ internals>\u001b[0m in \u001b[0;36mappend\u001b[1;34m(*args, **kwargs)\u001b[0m\n",
      "\u001b[1;32m~\\anaconda3\\lib\\site-packages\\numpy\\lib\\function_base.py\u001b[0m in \u001b[0;36mappend\u001b[1;34m(arr, values, axis)\u001b[0m\n\u001b[0;32m   4669\u001b[0m         \u001b[0mvalues\u001b[0m \u001b[1;33m=\u001b[0m \u001b[0mravel\u001b[0m\u001b[1;33m(\u001b[0m\u001b[0mvalues\u001b[0m\u001b[1;33m)\u001b[0m\u001b[1;33m\u001b[0m\u001b[1;33m\u001b[0m\u001b[0m\n\u001b[0;32m   4670\u001b[0m         \u001b[0maxis\u001b[0m \u001b[1;33m=\u001b[0m \u001b[0marr\u001b[0m\u001b[1;33m.\u001b[0m\u001b[0mndim\u001b[0m\u001b[1;33m-\u001b[0m\u001b[1;36m1\u001b[0m\u001b[1;33m\u001b[0m\u001b[1;33m\u001b[0m\u001b[0m\n\u001b[1;32m-> 4671\u001b[1;33m     \u001b[1;32mreturn\u001b[0m \u001b[0mconcatenate\u001b[0m\u001b[1;33m(\u001b[0m\u001b[1;33m(\u001b[0m\u001b[0marr\u001b[0m\u001b[1;33m,\u001b[0m \u001b[0mvalues\u001b[0m\u001b[1;33m)\u001b[0m\u001b[1;33m,\u001b[0m \u001b[0maxis\u001b[0m\u001b[1;33m=\u001b[0m\u001b[0maxis\u001b[0m\u001b[1;33m)\u001b[0m\u001b[1;33m\u001b[0m\u001b[1;33m\u001b[0m\u001b[0m\n\u001b[0m\u001b[0;32m   4672\u001b[0m \u001b[1;33m\u001b[0m\u001b[0m\n\u001b[0;32m   4673\u001b[0m \u001b[1;33m\u001b[0m\u001b[0m\n",
      "\u001b[1;32m<__array_function__ internals>\u001b[0m in \u001b[0;36mconcatenate\u001b[1;34m(*args, **kwargs)\u001b[0m\n",
      "\u001b[1;31mKeyboardInterrupt\u001b[0m: "
     ]
    }
   ],
   "source": [
    "def append_images(path, images, labels):\n",
    "    a=1\n",
    "    for img in os.listdir(path):\n",
    "        img_array = cv.imread(os.path.join(path, img))\n",
    "        images = np.append(images, [img_array], axis = 0)\n",
    "        label = np_utils.to_categorical(int(img[:3]), 64)\n",
    "        labels = np.append(labels, [label], axis=0)\n",
    "    return images, labels\n",
    "        \n",
    "face_images, face_labels = append_images(path2, face_images, face_labels)"
   ]
  },
  {
   "cell_type": "markdown",
   "metadata": {
    "id": "SuVbJfzQLJzK"
   },
   "source": [
    "# 홍채 Dataset"
   ]
  },
  {
   "cell_type": "code",
   "execution_count": 6,
   "metadata": {
    "colab": {
     "base_uri": "https://localhost:8080/",
     "height": 285
    },
    "id": "4M9G8eh9LJzL",
    "outputId": "efbc6c7b-c1e1-433e-c2ae-97b84dab5e96",
    "scrolled": true
   },
   "outputs": [],
   "source": [
    "path='C:/Users/clari/Desktop/multimodal2/model2/iris'\n",
    "\n",
    "#786 576\n",
    "sc=0.3\n",
    "\n",
    "iris_images = []\n",
    "iris_labels = []\n",
    "\n",
    "def img_trim (img):     \n",
    "    x = 150; y = 90;\n",
    "    w = 476; h = 430;\n",
    "    img_trim = img[y:y+h, x:x+w]\n",
    "    return img_trim\n",
    "\n",
    "def crop_images(path, images):\n",
    "    for img in sorted(os.listdir(path)):\n",
    "      img_array = cv.imread(os.path.join(path, img))/255.0\n",
    "      img_array = cv.resize(img_trim(img_array), (0,0), fx=sc, fy=sc)\n",
    "      iris_images.append(img_array)\n",
    "      iris_label = np_utils.to_categorical(int(img[:3]), 64)\n",
    "      iris_labels.append(iris_label)\n",
    "    \n",
    "crop_images(path, iris_images)"
   ]
  },
  {
   "cell_type": "code",
   "execution_count": 7,
   "metadata": {
    "colab": {
     "base_uri": "https://localhost:8080/"
    },
    "id": "jvanxM1hLJzN",
    "outputId": "62c3969c-870c-4858-93c9-a84b0d9d2421"
   },
   "outputs": [],
   "source": [
    "iris_images = np.array(iris_images)\n",
    "iris_labels = np.array(iris_labels)"
   ]
  },
  {
   "cell_type": "code",
   "execution_count": 8,
   "metadata": {},
   "outputs": [
    {
     "name": "stdout",
     "output_type": "stream",
     "text": [
      "(256, 129, 143, 3)\n"
     ]
    },
    {
     "data": {
      "text/plain": [
       "<matplotlib.image.AxesImage at 0x1175c230460>"
      ]
     },
     "execution_count": 8,
     "metadata": {},
     "output_type": "execute_result"
    },
    {
     "data": {
      "image/png": "[encoded data removed]",
      "text/plain": [
       "<Figure size 432x288 with 1 Axes>"
      ]
     },
     "metadata": {
      "needs_background": "light"
     },
     "output_type": "display_data"
    }
   ],
   "source": [
    "print(iris_images.shape)\n",
    "plt.imshow(iris_images[0])"
   ]
  },
  {
   "cell_type": "code",
   "execution_count": null,
   "metadata": {
    "id": "J9jPS3Nm2uKk"
   },
   "outputs": [],
   "source": [
    "trainDataGen2 = ImageDataGenerator(\n",
    "                                 width_shift_range=0.05,\n",
    "                                 height_shift_range=0.05,\n",
    "                                 brightness_range=[0.7, 1.3]\n",
    "                                # horizontal_flip=True,\n",
    "                                 )"
   ]
  },
  {
   "cell_type": "code",
   "execution_count": null,
   "metadata": {
    "id": "dXKAAJq548ir"
   },
   "outputs": [],
   "source": [
    "path3='C:/Users/clari/Desktop/multimodal2/model2/aug/iris_aug'   #129, 143, 3"
   ]
  },
  {
   "cell_type": "code",
   "execution_count": null,
   "metadata": {
    "id": "ZW0rCjvH2uTU"
   },
   "outputs": [],
   "source": [
    "i = 0\n",
    "j = 1\n",
    "im=[]\n",
    "num=4\n",
    "\n",
    "for img in iris_images :\n",
    "    im.append(img)\n",
    "    im=np.array(im)\n",
    "    for batch in trainDataGen2.flow(im, batch_size=1, save_to_dir=path3, save_prefix=format(int(i/num),'03'), save_format='png'):\n",
    "        j += 1\n",
    "        if j > 7:\n",
    "            break\n",
    "    j = 1\n",
    "    i+=1\n",
    "    im=[]\n",
    "\n",
    "  "
   ]
  },
  {
   "cell_type": "code",
   "execution_count": null,
   "metadata": {
    "id": "Yrwj4FAi2udJ"
   },
   "outputs": [],
   "source": [
    "def append_images(path, images, labels):\n",
    "    a=1\n",
    "    for img in os.listdir(path):\n",
    "        img_array = cv.imread(os.path.join(path, img))\n",
    "        images = np.append(images, [img_array], axis = 0)\n",
    "        label = np_utils.to_categorical(int(img[:3]), 64)\n",
    "        labels = np.append(labels, [label], axis=0)\n",
    "    return images, labels\n",
    "\n",
    "iris_images, iris_labels = append_images(path3, iris_images, iris_labels)"
   ]
  },
  {
   "cell_type": "markdown",
   "metadata": {
    "id": "V9M9KdiaLJzQ"
   },
   "source": [
    "# face 모델 정의"
   ]
  },
  {
   "cell_type": "code",
   "execution_count": null,
   "metadata": {
    "id": "oZ0MF3oOEC3D"
   },
   "outputs": [],
   "source": [
    "face_in=layers.Input(shape=(112, 92, 3))\n",
    "\n",
    "x = face_in\n",
    "x = layers.Conv2D(filters = 32, kernel_size = (3,3), padding='Same', activation='relu')(x)\n",
    "x = layers.MaxPooling2D(pool_size = (2,2))(x)\n",
    "x = layers.Dropout(0.1)(x)\n",
    "\n",
    "x = layers.Conv2D(filters = 64, kernel_size = (3,3), padding='Same', activation='relu')(x)\n",
    "x = layers.AveragePooling2D(pool_size = (2,2))(x)\n",
    "x = layers.Dropout(0.1)(x)\n",
    "\n",
    "x = layers.Conv2D(filters = 128, kernel_size = (3,3), padding='Same', activation='relu')(x)\n",
    "x = layers.MaxPooling2D(pool_size = (2,2))(x)\n",
    "x = layers.Dropout(0.1)(x)\n",
    "\n",
    "x = layers.Flatten()(x)\n",
    "x = layers.Dense(50, kernel_initializer='he_normal')(x)\n",
    "x = layers.BatchNormalization()(x)\n",
    "face_out = layers.Dense(64, activation='softmax')(x)\n",
    "face_model = Model(inputs= face_in, outputs=face_out)\n",
    "\n",
    "face_model.compile(optimizer='adam', loss='categorical_crossentropy', metrics=['accuracy'])"
   ]
  },
  {
   "cell_type": "markdown",
   "metadata": {
    "id": "-ZVPVRQeLJzV"
   },
   "source": [
    "# iris 모델"
   ]
  },
  {
   "cell_type": "code",
   "execution_count": null,
   "metadata": {
    "id": "bPFvSwSrEMZ2"
   },
   "outputs": [],
   "source": [
    "iris_in=layers.Input(shape=(129, 143, 3))\n",
    "\n",
    "# 129, 143, 3\n",
    "# 86, 95, 3\n",
    "# 43, 48, 3\n",
    "\n",
    "y=iris_in\n",
    "\n",
    "y = layers.Conv2D(filters = 32, kernel_size = (3,3), padding='Same', activation='relu')(y)\n",
    "y = layers.MaxPooling2D(pool_size = (2,2))(y)\n",
    "y = layers.Dropout(0.1)(y)\n",
    "\n",
    "y = layers.Conv2D(filters = 32, kernel_size = (3,3), padding='Same', activation='relu')(y)\n",
    "y = layers.AveragePooling2D(pool_size = (2,2))(y)\n",
    "y = layers.Dropout(0.1)(y)\n",
    "\n",
    "y = layers.Conv2D(filters = 64, kernel_size = (3,3), padding='Same', activation='relu')(y)\n",
    "y = layers.AveragePooling2D(pool_size = (2,2))(y)\n",
    "y = layers.Dropout(0.1)(y)\n",
    "\n",
    "y = layers.Conv2D(filters = 128, kernel_size = (3,3), padding='Same', activation='relu')(y)\n",
    "y = layers.MaxPooling2D(pool_size = (2,2))(y)\n",
    "y = layers.Dropout(0.1)(y)\n",
    "\n",
    "y = layers.Flatten()(y)\n",
    "y = layers.Dense(50, kernel_initializer='he_normal')(y)\n",
    "y = layers.BatchNormalization()(y)\n",
    "iris_out = layers.Dense(64, activation='softmax')(y)\n",
    "iris_model = Model(inputs= iris_in, outputs=iris_out)\n",
    "\n",
    "iris_model.compile(optimizer='adam', loss='categorical_crossentropy', metrics=['accuracy'])\n"
   ]
  },
  {
   "cell_type": "markdown",
   "metadata": {
    "id": "wMadNQ5CLJzY"
   },
   "source": [
    "# 레이어 병합"
   ]
  },
  {
   "cell_type": "code",
   "execution_count": null,
   "metadata": {
    "id": "NsEQXolKLJzY"
   },
   "outputs": [],
   "source": [
    "concat = layers.concatenate([face_model.output, iris_model.output])\n",
    "\n",
    "concat = layers.BatchNormalization()(concat)\n",
    "concat = layers.Flatten()(concat)\n",
    "concat = layers.Dense(128, activation='relu')(concat)\n",
    "concat = layers.Dropout(0.5)(concat)\n",
    "answer = layers.Dense(64, activation='softmax')(concat)\n",
    "\n",
    "concat_model = Model(inputs = [face_model.input, iris_model.input], outputs = answer)\n",
    "\n",
    "concat_model.compile(optimizer=optimizers.Adam(learning_rate=0.001),\n",
    "                     loss='categorical_crossentropy', metrics=['accuracy'])"
   ]
  },
  {
   "cell_type": "markdown",
   "metadata": {
    "id": "SDffGRpNLJzc"
   },
   "source": [
    "# 학습"
   ]
  },
  {
   "cell_type": "code",
   "execution_count": 18,
   "metadata": {
    "colab": {
     "base_uri": "https://localhost:8080/",
     "height": 208
    },
    "id": "wppFa2fBLJzd",
    "outputId": "1648d0a0-d960-4a93-dbe8-fbdf241953eb"
   },
   "outputs": [],
   "source": [
    "# Split a dataset into k folds\n",
    "fold_num = 3\n",
    "\n",
    "def cross_validation_split(X1, X2, Y, folds=fold_num):\n",
    "    skf = KFold(n_splits= fold_num, shuffle = True)\n",
    "    skf.get_n_splits(X1, Y)\n",
    "    dataset_split = []\n",
    "    i = 0\n",
    "    for train_index, test_index in skf.split(X1, Y):\n",
    "        #print(\"TRAIN:\", train_index, \"TEST:\", test_index)\n",
    "        train_index = train_index.astype(int)\n",
    "        test_index = test_index.astype(int)\n",
    "        X1 = np.array(X1)\n",
    "        X2 = np.array(X2)\n",
    "        Y = np.array(Y)\n",
    "        X_1_train, X_1_test = X1[train_index], X1[test_index]\n",
    "        X_2_train, X_2_test = X2[train_index], X2[test_index]\n",
    "        y_train, y_test = Y[train_index], Y[test_index]\n",
    "        k_fold_set = {\n",
    "                    'k_fold': i,\n",
    "                    'train': {'X_1': X_1_train, 'X_2': X_2_train, 'Y': y_train},\n",
    "                    'test': {'X_1': X_1_test, 'X_2': X_2_test, 'Y': y_test}\n",
    "                    }\n",
    "        dataset_split.append(k_fold_set)\n",
    "        i = i + 1\n",
    "\n",
    "    return dataset_split\n",
    "\n",
    "result = cross_validation_split(face_images, iris_images, face_labels, folds=fold_num)"
   ]
  },
  {
   "cell_type": "code",
   "execution_count": 19,
   "metadata": {
    "colab": {
     "base_uri": "https://localhost:8080/",
     "height": 135
    },
    "id": "4QLNFXyFLJze",
    "outputId": "90e5cb7c-ca7f-4ab2-cc67-5208ffd27891"
   },
   "outputs": [
    {
     "name": "stdout",
     "output_type": "stream",
     "text": [
      "Fold1\n",
      "Epoch 1/50\n",
      "1/1 [==============================] - 4s 4s/step - loss: 0.9616 - accuracy: 0.8594\n",
      "Epoch 2/50\n",
      "1/1 [==============================] - 4s 4s/step - loss: 0.9644 - accuracy: 0.8359\n",
      "Epoch 3/50\n",
      "1/1 [==============================] - 4s 4s/step - loss: 0.7820 - accuracy: 0.8984\n",
      "Epoch 4/50\n",
      "1/1 [==============================] - 3s 3s/step - loss: 0.8376 - accuracy: 0.8828\n",
      "Epoch 5/50\n",
      "1/1 [==============================] - 3s 3s/step - loss: 0.7488 - accuracy: 0.9062\n",
      "Epoch 6/50\n",
      "1/1 [==============================] - 3s 3s/step - loss: 0.6867 - accuracy: 0.8984\n",
      "Epoch 7/50\n",
      "1/1 [==============================] - 3s 3s/step - loss: 0.6859 - accuracy: 0.9062\n",
      "Epoch 8/50\n",
      "1/1 [==============================] - 3s 3s/step - loss: 0.5954 - accuracy: 0.9453\n",
      "Epoch 9/50\n",
      "1/1 [==============================] - 4s 4s/step - loss: 0.5319 - accuracy: 0.9375\n",
      "Epoch 10/50\n",
      "1/1 [==============================] - 3s 3s/step - loss: 0.5927 - accuracy: 0.9219\n",
      "Epoch 11/50\n",
      "1/1 [==============================] - 3s 3s/step - loss: 0.5338 - accuracy: 0.9375\n",
      "Epoch 12/50\n",
      "1/1 [==============================] - 3s 3s/step - loss: 0.4280 - accuracy: 0.9609\n",
      "Epoch 13/50\n",
      "1/1 [==============================] - 3s 3s/step - loss: 0.4386 - accuracy: 0.9297\n",
      "Epoch 14/50\n",
      "1/1 [==============================] - 3s 3s/step - loss: 0.4379 - accuracy: 0.9531\n",
      "Epoch 15/50\n",
      "1/1 [==============================] - 4s 4s/step - loss: 0.4078 - accuracy: 0.9453\n",
      "Epoch 16/50\n",
      "1/1 [==============================] - 4s 4s/step - loss: 0.3727 - accuracy: 0.9531\n",
      "Epoch 17/50\n",
      "1/1 [==============================] - 4s 4s/step - loss: 0.3611 - accuracy: 0.9766\n",
      "Epoch 18/50\n",
      "1/1 [==============================] - 4s 4s/step - loss: 0.3473 - accuracy: 0.9609\n",
      "Epoch 19/50\n",
      "1/1 [==============================] - 4s 4s/step - loss: 0.3307 - accuracy: 0.9688\n",
      "Epoch 20/50\n",
      "1/1 [==============================] - 3s 3s/step - loss: 0.3427 - accuracy: 0.9844\n",
      "Epoch 21/50\n",
      "1/1 [==============================] - 3s 3s/step - loss: 0.2446 - accuracy: 0.9844\n",
      "Epoch 22/50\n",
      "1/1 [==============================] - 4s 4s/step - loss: 0.2412 - accuracy: 0.9922\n",
      "Epoch 23/50\n",
      "1/1 [==============================] - 4s 4s/step - loss: 0.2119 - accuracy: 1.0000\n",
      "Epoch 24/50\n",
      "1/1 [==============================] - 4s 4s/step - loss: 0.2412 - accuracy: 0.9922\n",
      "Epoch 25/50\n",
      "1/1 [==============================] - 4s 4s/step - loss: 0.1992 - accuracy: 0.9922\n",
      "Epoch 26/50\n",
      "1/1 [==============================] - 3s 3s/step - loss: 0.2147 - accuracy: 0.9844\n",
      "Epoch 27/50\n",
      "1/1 [==============================] - 3s 3s/step - loss: 0.2014 - accuracy: 0.9766\n",
      "Epoch 28/50\n",
      "1/1 [==============================] - 3s 3s/step - loss: 0.1880 - accuracy: 1.0000\n",
      "Epoch 29/50\n",
      "1/1 [==============================] - 3s 3s/step - loss: 0.1867 - accuracy: 0.9922\n",
      "Epoch 30/50\n",
      "1/1 [==============================] - 3s 3s/step - loss: 0.1904 - accuracy: 0.9922\n",
      "Epoch 31/50\n",
      "1/1 [==============================] - 4s 4s/step - loss: 0.1901 - accuracy: 1.0000\n",
      "Epoch 32/50\n",
      "1/1 [==============================] - 4s 4s/step - loss: 0.1561 - accuracy: 1.0000\n",
      "Epoch 33/50\n",
      "1/1 [==============================] - 4s 4s/step - loss: 0.1559 - accuracy: 1.0000\n",
      "Epoch 34/50\n",
      "1/1 [==============================] - 3s 3s/step - loss: 0.1161 - accuracy: 0.9922\n",
      "Epoch 35/50\n",
      "1/1 [==============================] - 3s 3s/step - loss: 0.1485 - accuracy: 0.9922\n",
      "Epoch 36/50\n",
      "1/1 [==============================] - 4s 4s/step - loss: 0.1361 - accuracy: 1.0000\n",
      "Epoch 37/50\n",
      "1/1 [==============================] - 4s 4s/step - loss: 0.1182 - accuracy: 0.9922\n",
      "Epoch 38/50\n",
      "1/1 [==============================] - 4s 4s/step - loss: 0.1042 - accuracy: 0.9922\n",
      "Epoch 39/50\n",
      "1/1 [==============================] - 4s 4s/step - loss: 0.1388 - accuracy: 0.9922\n",
      "Epoch 40/50\n",
      "1/1 [==============================] - 3s 3s/step - loss: 0.1104 - accuracy: 1.0000\n",
      "Epoch 41/50\n",
      "1/1 [==============================] - 3s 3s/step - loss: 0.1176 - accuracy: 1.0000\n",
      "Epoch 42/50\n",
      "1/1 [==============================] - 3s 3s/step - loss: 0.0945 - accuracy: 1.0000\n",
      "Epoch 43/50\n",
      "1/1 [==============================] - 4s 4s/step - loss: 0.0967 - accuracy: 1.0000\n",
      "Epoch 44/50\n",
      "1/1 [==============================] - 4s 4s/step - loss: 0.1051 - accuracy: 1.0000\n",
      "Epoch 45/50\n",
      "1/1 [==============================] - 4s 4s/step - loss: 0.1235 - accuracy: 1.0000\n",
      "Epoch 46/50\n",
      "1/1 [==============================] - 4s 4s/step - loss: 0.0889 - accuracy: 1.0000\n",
      "Epoch 47/50\n",
      "1/1 [==============================] - 4s 4s/step - loss: 0.1173 - accuracy: 1.0000\n",
      "Epoch 48/50\n",
      "1/1 [==============================] - 4s 4s/step - loss: 0.0813 - accuracy: 1.0000\n",
      "Epoch 49/50\n",
      "1/1 [==============================] - 4s 4s/step - loss: 0.0964 - accuracy: 0.9922\n",
      "Epoch 50/50\n",
      "1/1 [==============================] - 4s 4s/step - loss: 0.0962 - accuracy: 0.9844\n"
     ]
    },
    {
     "ename": "NameError",
     "evalue": "name 'priny' is not defined",
     "output_type": "error",
     "traceback": [
      "\u001b[1;31m---------------------------------------------------------------------------\u001b[0m",
      "\u001b[1;31mNameError\u001b[0m                                 Traceback (most recent call last)",
      "\u001b[1;32m<ipython-input-19-6be77ff83114>\u001b[0m in \u001b[0;36m<module>\u001b[1;34m\u001b[0m\n\u001b[0;32m     17\u001b[0m     \u001b[0mpred\u001b[0m \u001b[1;33m=\u001b[0m \u001b[0mnp\u001b[0m\u001b[1;33m.\u001b[0m\u001b[0margmax\u001b[0m\u001b[1;33m(\u001b[0m\u001b[0mconcat_model\u001b[0m\u001b[1;33m.\u001b[0m\u001b[0mpredict\u001b[0m\u001b[1;33m(\u001b[0m\u001b[1;33m[\u001b[0m\u001b[0mk_fold_set\u001b[0m\u001b[1;33m[\u001b[0m\u001b[1;34m'test'\u001b[0m\u001b[1;33m]\u001b[0m\u001b[1;33m[\u001b[0m\u001b[1;34m'X_1'\u001b[0m\u001b[1;33m]\u001b[0m\u001b[1;33m,\u001b[0m \u001b[0mk_fold_set\u001b[0m\u001b[1;33m[\u001b[0m\u001b[1;34m'test'\u001b[0m\u001b[1;33m]\u001b[0m\u001b[1;33m[\u001b[0m\u001b[1;34m'X_2'\u001b[0m\u001b[1;33m]\u001b[0m\u001b[1;33m]\u001b[0m\u001b[1;33m)\u001b[0m\u001b[1;33m.\u001b[0m\u001b[0mround\u001b[0m\u001b[1;33m(\u001b[0m\u001b[1;33m)\u001b[0m\u001b[1;33m,\u001b[0m \u001b[0maxis\u001b[0m \u001b[1;33m=\u001b[0m \u001b[1;36m1\u001b[0m\u001b[1;33m)\u001b[0m\u001b[1;33m\u001b[0m\u001b[1;33m\u001b[0m\u001b[0m\n\u001b[0;32m     18\u001b[0m \u001b[1;33m\u001b[0m\u001b[0m\n\u001b[1;32m---> 19\u001b[1;33m     \u001b[0mpriny\u001b[0m\u001b[1;33m(\u001b[0m\u001b[0my_test\u001b[0m\u001b[1;33m)\u001b[0m\u001b[1;33m\u001b[0m\u001b[1;33m\u001b[0m\u001b[0m\n\u001b[0m\u001b[0;32m     20\u001b[0m     \u001b[0mprint\u001b[0m\u001b[1;33m(\u001b[0m\u001b[0mpred\u001b[0m\u001b[1;33m)\u001b[0m\u001b[1;33m\u001b[0m\u001b[1;33m\u001b[0m\u001b[0m\n\u001b[0;32m     21\u001b[0m \u001b[1;33m\u001b[0m\u001b[0m\n",
      "\u001b[1;31mNameError\u001b[0m: name 'priny' is not defined"
     ]
    }
   ],
   "source": [
    "from keras.callbacks import EarlyStopping\n",
    "\n",
    "earlystopping = EarlyStopping(monitor='loss',     # 모니터 기준 설정 (loss) \n",
    "                              patience=10,         # 3회 Epoch동안 개선되지 않는다면 종료\n",
    "                             )\n",
    "\n",
    "accs = [];  precision = [];  recall = [];  F1 = []\n",
    "history = []\n",
    "i = 0\n",
    "for k_fold_set in result :\n",
    "    i += 1    \n",
    "    print('Fold' + str(i))\n",
    "    history.append(concat_model.fit([k_fold_set['train']['X_1'], k_fold_set['train']['X_2']], \n",
    "                                    k_fold_set['train']['Y'], epochs =50, batch_size = 256, callbacks=earlystopping))\n",
    "    \n",
    "    y_test = np.argmax(k_fold_set['test']['Y'], axis = 1)\n",
    "    pred = np.argmax(concat_model.predict([k_fold_set['test']['X_1'], k_fold_set['test']['X_2']]), axis = 1)\n",
    "\n",
    "    print(y_test)\n",
    "    print(pred)\n",
    "    \n",
    "    accs.append(accuracy_score(y_test, pred))\n",
    "    precision.append(precision_score(y_test,pred, average = 'macro'))\n",
    "    recall.append(recall_score(y_test, pred, average = 'macro',  labels=np.unique(pred)))\n",
    "    F1.append(f1_score(y_test, pred, average = 'macro',  labels=np.unique(pred)))    "
   ]
  },
  {
   "cell_type": "code",
   "execution_count": 230,
   "metadata": {
    "id": "85PXyLi8LJzi",
    "scrolled": false
   },
   "outputs": [
    {
     "name": "stdout",
     "output_type": "stream",
     "text": [
      "Model: \"model_51\"\n",
      "__________________________________________________________________________________________________\n",
      "Layer (type)                    Output Shape         Param #     Connected to                     \n",
      "==================================================================================================\n",
      "input_29 (InputLayer)           [(None, 129, 143, 3) 0                                            \n",
      "__________________________________________________________________________________________________\n",
      "conv2d_97 (Conv2D)              (None, 129, 143, 32) 896         input_29[0][0]                   \n",
      "__________________________________________________________________________________________________\n",
      "input_28 (InputLayer)           [(None, 112, 92, 3)] 0                                            \n",
      "__________________________________________________________________________________________________\n",
      "max_pooling2d_57 (MaxPooling2D) (None, 64, 71, 32)   0           conv2d_97[0][0]                  \n",
      "__________________________________________________________________________________________________\n",
      "conv2d_94 (Conv2D)              (None, 112, 92, 32)  896         input_28[0][0]                   \n",
      "__________________________________________________________________________________________________\n",
      "dropout_97 (Dropout)            (None, 64, 71, 32)   0           max_pooling2d_57[0][0]           \n",
      "__________________________________________________________________________________________________\n",
      "max_pooling2d_55 (MaxPooling2D) (None, 56, 46, 32)   0           conv2d_94[0][0]                  \n",
      "__________________________________________________________________________________________________\n",
      "conv2d_98 (Conv2D)              (None, 64, 71, 32)   9248        dropout_97[0][0]                 \n",
      "__________________________________________________________________________________________________\n",
      "dropout_94 (Dropout)            (None, 56, 46, 32)   0           max_pooling2d_55[0][0]           \n",
      "__________________________________________________________________________________________________\n",
      "average_pooling2d_43 (AveragePo (None, 32, 35, 32)   0           conv2d_98[0][0]                  \n",
      "__________________________________________________________________________________________________\n",
      "conv2d_95 (Conv2D)              (None, 56, 46, 64)   18496       dropout_94[0][0]                 \n",
      "__________________________________________________________________________________________________\n",
      "dropout_98 (Dropout)            (None, 32, 35, 32)   0           average_pooling2d_43[0][0]       \n",
      "__________________________________________________________________________________________________\n",
      "average_pooling2d_42 (AveragePo (None, 28, 23, 64)   0           conv2d_95[0][0]                  \n",
      "__________________________________________________________________________________________________\n",
      "conv2d_99 (Conv2D)              (None, 32, 35, 64)   18496       dropout_98[0][0]                 \n",
      "__________________________________________________________________________________________________\n",
      "dropout_95 (Dropout)            (None, 28, 23, 64)   0           average_pooling2d_42[0][0]       \n",
      "__________________________________________________________________________________________________\n",
      "average_pooling2d_44 (AveragePo (None, 16, 17, 64)   0           conv2d_99[0][0]                  \n",
      "__________________________________________________________________________________________________\n",
      "conv2d_96 (Conv2D)              (None, 28, 23, 128)  73856       dropout_95[0][0]                 \n",
      "__________________________________________________________________________________________________\n",
      "dropout_99 (Dropout)            (None, 16, 17, 64)   0           average_pooling2d_44[0][0]       \n",
      "__________________________________________________________________________________________________\n",
      "max_pooling2d_56 (MaxPooling2D) (None, 14, 11, 128)  0           conv2d_96[0][0]                  \n",
      "__________________________________________________________________________________________________\n",
      "conv2d_100 (Conv2D)             (None, 16, 17, 128)  73856       dropout_99[0][0]                 \n",
      "__________________________________________________________________________________________________\n",
      "dropout_96 (Dropout)            (None, 14, 11, 128)  0           max_pooling2d_56[0][0]           \n",
      "__________________________________________________________________________________________________\n",
      "max_pooling2d_58 (MaxPooling2D) (None, 8, 8, 128)    0           conv2d_100[0][0]                 \n",
      "__________________________________________________________________________________________________\n",
      "flatten_40 (Flatten)            (None, 19712)        0           dropout_96[0][0]                 \n",
      "__________________________________________________________________________________________________\n",
      "flatten_41 (Flatten)            (None, 8192)         0           max_pooling2d_58[0][0]           \n",
      "__________________________________________________________________________________________________\n",
      "dense_81 (Dense)                (None, 50)           985650      flatten_40[0][0]                 \n",
      "__________________________________________________________________________________________________\n",
      "dense_83 (Dense)                (None, 50)           409650      flatten_41[0][0]                 \n",
      "__________________________________________________________________________________________________\n",
      "batch_normalization_42 (BatchNo (None, 50)           200         dense_81[0][0]                   \n",
      "__________________________________________________________________________________________________\n",
      "batch_normalization_43 (BatchNo (None, 50)           200         dense_83[0][0]                   \n",
      "__________________________________________________________________________________________________\n",
      "dense_82 (Dense)                (None, 64)           3264        batch_normalization_42[0][0]     \n",
      "__________________________________________________________________________________________________\n",
      "dense_84 (Dense)                (None, 64)           3264        batch_normalization_43[0][0]     \n",
      "__________________________________________________________________________________________________\n",
      "concatenate_14 (Concatenate)    (None, 128)          0           dense_82[0][0]                   \n",
      "                                                                 dense_84[0][0]                   \n",
      "__________________________________________________________________________________________________\n",
      "batch_normalization_44 (BatchNo (None, 128)          512         concatenate_14[0][0]             \n",
      "__________________________________________________________________________________________________\n",
      "flatten_42 (Flatten)            (None, 128)          0           batch_normalization_44[0][0]     \n",
      "__________________________________________________________________________________________________\n",
      "dense_85 (Dense)                (None, 128)          16512       flatten_42[0][0]                 \n",
      "__________________________________________________________________________________________________\n",
      "dropout_100 (Dropout)           (None, 128)          0           dense_85[0][0]                   \n",
      "__________________________________________________________________________________________________\n",
      "dense_86 (Dense)                (None, 64)           8256        dropout_100[0][0]                \n",
      "==================================================================================================\n",
      "Total params: 1,623,252\n",
      "Trainable params: 1,622,796\n",
      "Non-trainable params: 456\n",
      "__________________________________________________________________________________________________\n"
     ]
    }
   ],
   "source": [
    "concat_model.summary()"
   ]
  },
  {
   "cell_type": "code",
   "execution_count": null,
   "metadata": {},
   "outputs": [],
   "source": [
    "for i in range(1,fold_num+1):\n",
    "    print(\"Fold%d 훈련 결과 : \"%i)\n",
    "    print(\"     accs : %.6f\"%accs[i-1])\n",
    "    print(\"     precision : %.6f\"%precision[i-1])\n",
    "    print(\"     recall : %.6f\"%recall[i-1])\n",
    "    print(\"     F1 : %.6f\"%F1[i-1])\n",
    "\n",
    "print(\"\\n평균 훈련 결과\")\n",
    "print(\"     Accuracy : %.6f\"%np.mean(accs))\n",
    "print(\"     Precision : %.6f\"%np.mean(precision))\n",
    "print(\"     Recall Score : %.6f\"%np.mean(recall))\n",
    "print(\"     F1-Score : %.6f\"%np.mean(F1))"
   ]
  },
  {
   "cell_type": "markdown",
   "metadata": {
    "id": "yY2IhYoILJzl"
   },
   "source": [
    "# 훈련 과정 시각화"
   ]
  },
  {
   "cell_type": "code",
   "execution_count": null,
   "metadata": {
    "id": "mrXiADatLJzm"
   },
   "outputs": [],
   "source": [
    "# summarize history for accuracy\n",
    "plt.plot(history[0].history['accuracy'])\n",
    "plt.plot(history[1].history['accuracy'])\n",
    "plt.plot(history[2].history['accuracy'])\n",
    "plt.plot(history[3].history['accuracy'])\n",
    "#plt.plot(history[5].history['accuracy'])\n",
    "plt.title('model train accuracy')\n",
    "plt.ylabel('accuracy')\n",
    "plt.xlabel('epoch')\n",
    "plt.legend(['fold1', 'fold2','fold3','fold4'], loc=0)\n",
    "plt.show()\n",
    "\n",
    "# summarize history for accuracy\n",
    "plt.plot(history[0].history['loss'])\n",
    "plt.plot(history[1].history['loss'])\n",
    "plt.plot(history[2].history['loss'])\n",
    "plt.plot(history[3].history['loss'])\n",
    "#plt.plot(history[5].history['loss'])\n",
    "plt.title('model train accuracy')\n",
    "plt.ylabel('loss')\n",
    "plt.xlabel('epoch')\n",
    "plt.legend(['fold1', 'fold2','fold3','fold4'], loc='upper left')\n",
    "plt.show()\n"
   ]
  },
  {
   "cell_type": "markdown",
   "metadata": {
    "id": "sJJM-oE9LJzn"
   },
   "source": [
    "# 테스트 데이터셋 예측"
   ]
  },
  {
   "cell_type": "code",
   "execution_count": 227,
   "metadata": {
    "id": "BMK6c7YjLJzp"
   },
   "outputs": [],
   "source": [
    "path='C:/Users/clari/Desktop/multimodal2/model2/face_test'\n",
    "\n",
    "test_num = []\n",
    "face_test_images = []\n",
    "def crop_test_images(path, images):\n",
    "    for img in os.listdir(path):\n",
    "        img_array = cv.imread(os.path.join(path, img))/255.0\n",
    "        img_array = cv.resize(img_array, dsize=(0,0), fx=2, fy=2, interpolation=cv.INTER_LINEAR)          \n",
    "        face_test_images.append(img_array)\n",
    "        test_num.append(int(img[:2]))\n",
    "\n",
    "crop_test_images(path, face_test_images)"
   ]
  },
  {
   "cell_type": "code",
   "execution_count": 228,
   "metadata": {
    "id": "2xor4EiB40uQ"
   },
   "outputs": [],
   "source": [
    "path2='C:/Users/clari/Desktop/multimodal2/model2/iris_test'\n",
    "\n",
    "iris_test_images = []\n",
    "def crop_test_images2(path, test_images):\n",
    "    for img in os.listdir(path):\n",
    "      img_array = cv.imread(os.path.join(path, img))/255.0\n",
    "      img_array = cv.resize(img_trim(img_array), (0,0), fx=sc, fy=sc) \n",
    "      iris_test_images.append(img_array)\n",
    "\n",
    "crop_test_images2(path2, iris_test_images)"
   ]
  },
  {
   "cell_type": "code",
   "execution_count": 229,
   "metadata": {
    "id": "HppeuJY2LJzq"
   },
   "outputs": [],
   "source": [
    "face_test_images = np.array(face_test_images)\n",
    "iris_test_images = np.array(iris_test_images)\n",
    "test_num = np.array(test_num)"
   ]
  },
  {
   "cell_type": "code",
   "execution_count": 160,
   "metadata": {
    "id": "2TtZNlzQLJzr",
    "scrolled": true
   },
   "outputs": [],
   "source": [
    "import pandas as pd\n",
    "\n",
    "pred = np.argmax(concat_model.predict([face_test_images,iris_test_images]), axis=1)\n",
    "\n",
    "df = pd.DataFrame({'Image': test_num, 'Answer': pred}).sort_values('Image')\n",
    "df.to_csv('C:/Users/clari/Desktop/multimodal2/model2/1871081_이희연_멀티모달_모델2개2.csv', index = False)"
   ]
  }
 ],
 "metadata": {
  "accelerator": "GPU",
  "colab": {
   "collapsed_sections": [
    "yY2IhYoILJzl"
   ],
   "name": "1871081_이희연_멀티모달_1차_코드_모델2개_test",
   "provenance": [],
   "toc_visible": true
  },
  "kernelspec": {
   "display_name": "Python 3",
   "language": "python",
   "name": "python3"
  },
  "language_info": {
   "codemirror_mode": {
    "name": "ipython",
    "version": 3
   },
   "file_extension": ".py",
   "mimetype": "text/x-python",
   "name": "python",
   "nbconvert_exporter": "python",
   "pygments_lexer": "ipython3",
   "version": "3.8.3"
  }
 },
 "nbformat": 4,
 "nbformat_minor": 1
}
